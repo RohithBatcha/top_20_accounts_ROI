{
  "nbformat": 4,
  "nbformat_minor": 0,
  "metadata": {
    "colab": {
      "provenance": []
    },
    "kernelspec": {
      "name": "python3",
      "display_name": "Python 3"
    },
    "language_info": {
      "name": "python"
    }
  },
  "cells": [
    {
      "cell_type": "markdown",
      "source": [
        "# Step 1: Load and Inspect the Data\n",
        "The goal here is to load the CSV file and view its contents. We can inspect the data to understand its structure."
      ],
      "metadata": {
        "id": "Qqy5HMP-fXgt"
      }
    },
    {
      "cell_type": "code",
      "execution_count": 8,
      "metadata": {
        "colab": {
          "base_uri": "https://localhost:8080/"
        },
        "id": "SP0Au_qbfVGh",
        "outputId": "bdee83eb-2dfa-4226-9b83-1e2c3021fc33"
      },
      "outputs": [
        {
          "output_type": "stream",
          "name": "stdout",
          "text": [
            "              Port_IDs                                      Trade_History\n",
            "0  3925368433214965504  [{'time': 1718899656000, 'symbol': 'SOLUSDT', ...\n",
            "1  4002413037164645377  [{'time': 1718980078000, 'symbol': 'NEARUSDT',...\n",
            "2  3923766029921022977  [{'time': 1718677164000, 'symbol': 'ETHUSDT', ...\n",
            "3  3994879592543698688  [{'time': 1718678214000, 'symbol': 'ETHUSDT', ...\n",
            "4  3926423286576838657  [{'time': 1718979615000, 'symbol': 'ETHUSDT', ...\n"
          ]
        }
      ],
      "source": [
        "import pandas as pd\n",
        "\n",
        "# Load the dataset\n",
        "file_path = \"/content/TRADES_CopyTr_90D_ROI.csv\"  # Update with your file path\n",
        "df = pd.read_csv(file_path)\n",
        "\n",
        "# Display the first few rows of the dataset to inspect its structure\n",
        "print(df.head())\n"
      ]
    },
    {
      "cell_type": "markdown",
      "source": [
        "# Step 2: Handle and Clean the Data\n",
        "The dataset contains a Trade_History column that stores information in a more complex format (as a string representation of a list of dictionaries). We need to convert this into a more usable format."
      ],
      "metadata": {
        "id": "9v6DTR5hgGtS"
      }
    },
    {
      "cell_type": "code",
      "source": [
        "import ast\n",
        "\n",
        "# Define a simple function to safely convert the 'Trade_History' column\n",
        "def convert_trade_history(trade_data):\n",
        "    try:\n",
        "        return ast.literal_eval(trade_data)  # Converts string to a list of dictionaries\n",
        "    except (ValueError, SyntaxError):\n",
        "        return None  # In case the data is invalid, return None\n",
        "\n",
        "# Apply this function to each entry in 'Trade_History'\n",
        "df['Trade_History'] = df['Trade_History'].apply(convert_trade_history)\n",
        "\n",
        "# Remove rows with invalid 'Trade_History'\n",
        "df_cleaned = df.dropna(subset=['Trade_History'])\n",
        "\n",
        "# Display the cleaned data\n",
        "print(df_cleaned.head())\n"
      ],
      "metadata": {
        "colab": {
          "base_uri": "https://localhost:8080/"
        },
        "id": "WR7-kHRQf0UV",
        "outputId": "ca71be79-afa1-453e-90b3-a431787d6cab"
      },
      "execution_count": 9,
      "outputs": [
        {
          "output_type": "stream",
          "name": "stdout",
          "text": [
            "              Port_IDs                                      Trade_History\n",
            "0  3925368433214965504  [{'time': 1718899656000, 'symbol': 'SOLUSDT', ...\n",
            "1  4002413037164645377  [{'time': 1718980078000, 'symbol': 'NEARUSDT',...\n",
            "2  3923766029921022977  [{'time': 1718677164000, 'symbol': 'ETHUSDT', ...\n",
            "3  3994879592543698688  [{'time': 1718678214000, 'symbol': 'ETHUSDT', ...\n",
            "4  3926423286576838657  [{'time': 1718979615000, 'symbol': 'ETHUSDT', ...\n"
          ]
        }
      ]
    },
    {
      "cell_type": "markdown",
      "source": [
        "# Explanation:\n",
        "**ast.literal_eval:** Safely converts a string representation of a list/dictionary back into a Python object (list of dictionaries here).\\\n",
        "**apply:** This function is used to apply the conversion to each row of the column.\\\n",
        "**dropna:** Removes rows where the Trade_History could not be converted.\n"
      ],
      "metadata": {
        "id": "QHyVq_uygy7v"
      }
    },
    {
      "cell_type": "markdown",
      "source": [
        "# Step 3: Extract Useful Trade Information\n",
        "Now we want to pull out specific details from each trade, such as time, symbol, side (BUY/SELL), price, quantity, and profit."
      ],
      "metadata": {
        "id": "PwbBHQ9MhB8n"
      }
    },
    {
      "cell_type": "code",
      "source": [
        "# Create a function to extract relevant details from 'Trade_History'\n",
        "def extract_trades(trade_history):\n",
        "    trades_list = []\n",
        "    for trade in trade_history:\n",
        "        # Extract important fields from each trade\n",
        "        trades_list.append({\n",
        "            'symbol': trade['symbol'],\n",
        "            'side': trade['side'],\n",
        "            'price': trade['price'],\n",
        "            'realizedProfit': trade.get('realizedProfit', 0)  # Default to 0 if not available\n",
        "        })\n",
        "    return trades_list\n",
        "\n",
        "# Apply this function to the trade history for each account using .loc\n",
        "df_cleaned.loc[:, 'Extracted_Trades'] = df_cleaned['Trade_History'].apply(extract_trades)\n",
        "\n",
        "# Display the extracted trade information\n",
        "print(df_cleaned[['Port_IDs', 'Extracted_Trades']].head())\n"
      ],
      "metadata": {
        "colab": {
          "base_uri": "https://localhost:8080/"
        },
        "id": "gz7oEwvcgXyg",
        "outputId": "b6dfc9c2-32ce-49ed-a279-16920336e1e4"
      },
      "execution_count": 14,
      "outputs": [
        {
          "output_type": "stream",
          "name": "stdout",
          "text": [
            "              Port_IDs                                   Extracted_Trades\n",
            "0  3925368433214965504  [{'symbol': 'SOLUSDT', 'side': 'BUY', 'price':...\n",
            "1  4002413037164645377  [{'symbol': 'NEARUSDT', 'side': 'SELL', 'price...\n",
            "2  3923766029921022977  [{'symbol': 'ETHUSDT', 'side': 'SELL', 'price'...\n",
            "3  3994879592543698688  [{'symbol': 'ETHUSDT', 'side': 'SELL', 'price'...\n",
            "4  3926423286576838657  [{'symbol': 'ETHUSDT', 'side': 'SELL', 'price'...\n"
          ]
        }
      ]
    },
    {
      "cell_type": "markdown",
      "source": [
        "# Explanation:\n",
        "**extract_trades:** This function loops through each trade in the Trade_History and pulls out relevant fields.\\\n",
        "**get('realizedProfit', 0):** Safely retrieves the profit for each trade, defaulting to 0 if missing."
      ],
      "metadata": {
        "id": "I7K_m2TKhRLN"
      }
    },
    {
      "cell_type": "code",
      "source": [],
      "metadata": {
        "id": "-APLyntxgZjb"
      },
      "execution_count": 9,
      "outputs": []
    },
    {
      "cell_type": "markdown",
      "source": [
        "# step 4: Calculate Metrics for Each Account\n",
        "Now that we have clean trade data, we can calculate metrics such as Win Rate, Total Profit (PnL), and ROI."
      ],
      "metadata": {
        "id": "IqbNHn3Whf9R"
      }
    },
    {
      "cell_type": "code",
      "source": [
        "# Function to calculate Win Rate, Total Profit (PnL), and ROI\n",
        "def calculate_metrics(trades):\n",
        "    total_positions = len(trades)\n",
        "    win_positions = sum(1 for trade in trades if trade['realizedProfit'] > 0)  # Profitable trades\n",
        "    total_profit = sum(trade['realizedProfit'] for trade in trades)\n",
        "    total_investment = sum(trade['price'] for trade in trades)\n",
        "\n",
        "    win_rate = win_positions / total_positions if total_positions > 0 else 0\n",
        "    roi = (total_profit / total_investment) * 100 if total_investment > 0 else 0\n",
        "\n",
        "    return pd.Series({\n",
        "        'Win Rate': win_rate,\n",
        "        'Total Profit (PnL)': total_profit,\n",
        "        'ROI': roi\n",
        "    })\n",
        "\n",
        "# Apply the function to calculate metrics for each account using .loc\n",
        "df_cleaned[['Win Rate', 'Total Profit (PnL)', 'ROI']] = df_cleaned['Extracted_Trades'].apply(calculate_metrics)\n",
        "\n",
        "# Display the metrics\n",
        "print(df_cleaned[['Port_IDs', 'Win Rate', 'Total Profit (PnL)', 'ROI']].head())\n"
      ],
      "metadata": {
        "colab": {
          "base_uri": "https://localhost:8080/"
        },
        "id": "wtNRLj2Dgay7",
        "outputId": "d968dd34-a005-43e0-8666-ae7f916a4cc9"
      },
      "execution_count": 15,
      "outputs": [
        {
          "output_type": "stream",
          "name": "stdout",
          "text": [
            "              Port_IDs  Win Rate  Total Profit (PnL)       ROI\n",
            "0  3925368433214965504  0.333333         6789.436739  0.055715\n",
            "1  4002413037164645377  0.185764         3686.969761  0.512650\n",
            "2  3923766029921022977  0.285147          772.729032  0.024090\n",
            "3  3994879592543698688  0.552833         3658.765062  0.644991\n",
            "4  3926423286576838657  0.341004         1309.459960  0.025232\n"
          ]
        },
        {
          "output_type": "stream",
          "name": "stderr",
          "text": [
            "<ipython-input-15-58d4c9196ecb>:18: SettingWithCopyWarning: \n",
            "A value is trying to be set on a copy of a slice from a DataFrame.\n",
            "Try using .loc[row_indexer,col_indexer] = value instead\n",
            "\n",
            "See the caveats in the documentation: https://pandas.pydata.org/pandas-docs/stable/user_guide/indexing.html#returning-a-view-versus-a-copy\n",
            "  df_cleaned[['Win Rate', 'Total Profit (PnL)', 'ROI']] = df_cleaned['Extracted_Trades'].apply(calculate_metrics)\n"
          ]
        }
      ]
    },
    {
      "cell_type": "markdown",
      "source": [
        "# Step 5: Rank and Select Top 20 Accounts\n",
        "Finally, we rank the accounts based on their metrics, such as ROI or Total Profit, and select the top 20 accounts."
      ],
      "metadata": {
        "id": "NPcJEofCiBLd"
      }
    },
    {
      "cell_type": "code",
      "source": [
        "# Rank accounts based on ROI using .loc to avoid SettingWithCopyWarning\n",
        "df_cleaned.loc[:, 'Rank'] = df_cleaned['ROI'].rank(ascending=False)\n",
        "\n",
        "# Sort accounts by ROI and get the top 20\n",
        "top_20 = df_cleaned.sort_values(by='ROI', ascending=False).head(20)\n",
        "\n",
        "# Display the top 20 accounts\n",
        "print(top_20[['Port_IDs', 'ROI', 'Win Rate', 'Total Profit (PnL)']])\n",
        "\n",
        "# Save the top 20 accounts to a CSV file\n",
        "top_20.to_csv('top_20_accounts.csv', index=False)\n"
      ],
      "metadata": {
        "colab": {
          "base_uri": "https://localhost:8080/"
        },
        "id": "ped92DqAgbyp",
        "outputId": "7f0dec81-4fc2-4705-f171-b5f5941c6e59"
      },
      "execution_count": 13,
      "outputs": [
        {
          "output_type": "stream",
          "name": "stdout",
          "text": [
            "                Port_IDs           ROI  Win Rate  Total Profit (PnL)\n",
            "46   3977234346014419201  42334.836545  0.397590         2427.292831\n",
            "44   4023697433751327232  40611.681855  0.095238         2408.224000\n",
            "41   3983074113875692800  38138.783342  0.325581         2424.829520\n",
            "96   4004713168329653760  37699.211283  0.074074         1667.198610\n",
            "45   4029506971304830209  33222.767603  0.057692         2413.654000\n",
            "104  4030708912786799105  18475.320743  0.033333         1612.843770\n",
            "18   4023697881318718465  14737.259902  0.085714         3151.950620\n",
            "110  4029507714735307777   6704.062891  0.037736         1537.899960\n",
            "21   3891020560590657281   1489.410444  0.647597         2856.300564\n",
            "109  4039279455324236544    704.239548  0.553517         1038.807419\n",
            "31   4034786679304751616    522.937085  0.383178         2521.075869\n",
            "93   4035034554469394176    179.198828  0.167089         2517.320800\n",
            "106  4030392204221219329    151.402901  0.094118         1347.758010\n",
            "127  3999240873283311617    108.767842  0.523220        42574.473679\n",
            "130  4038768306117031680    100.264635  0.220000         1741.914260\n",
            "48   4037785885739608577     82.426052  0.232283         1934.579235\n",
            "141  4039129759104249600     68.178642  0.443609         1264.289200\n",
            "122  4037717032428033792     64.825091  0.321767         1897.322999\n",
            "111  4031408429897920512     62.925823  0.048780         1351.266600\n",
            "9    4029749871687083265     50.570698  0.428738         3662.136548\n"
          ]
        }
      ]
    },
    {
      "cell_type": "markdown",
      "source": [
        "# Explanation:\n",
        "**rank: **Assigns a rank to each account based on its ROI (or you can choose any other metric).\\\n",
        "**sort_values:** Sorts the DataFrame by the selected metric (ROI in this case).\\\n",
        "**head(20):** Selects the top 20 accounts."
      ],
      "metadata": {
        "id": "PUn8ut8sh2K4"
      }
    },
    {
      "cell_type": "code",
      "source": [],
      "metadata": {
        "id": "XTHrtwBnigCe"
      },
      "execution_count": null,
      "outputs": []
    }
  ]
}